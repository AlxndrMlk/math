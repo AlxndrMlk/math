{
 "cells": [
  {
   "cell_type": "code",
   "execution_count": 3,
   "id": "50104197",
   "metadata": {},
   "outputs": [],
   "source": [
    "import numpy as np\n",
    "from scipy import linalg\n",
    "\n",
    "import matplotlib.pyplot as plt\n",
    "plt.style.use('fivethirtyeight')"
   ]
  },
  {
   "cell_type": "markdown",
   "id": "bf025b2f",
   "metadata": {},
   "source": [
    "# Matrix spectrum and spectral radius\n",
    "\n",
    "[**Matrix spectrum**](https://en.wikipedia.org/wiki/Spectrum_of_a_matrix) of matrix $A$ is defined as:\n",
    "\n",
    "$$\\Large \\Lambda(A) = \\{\\lambda_1, ..., \\lambda_n\\}$$\n",
    "\n",
    "In other words, it's a set of all **eigenvalues** of matrix $A$.\n",
    "\n",
    "**Spectral radius** of matrix $A$ is:\n",
    "\n",
    "$$\\Large \\rho(A) = max(|\\Lambda(A)|)$$"
   ]
  },
  {
   "cell_type": "markdown",
   "id": "a406598b",
   "metadata": {},
   "source": [
    "## Data"
   ]
  },
  {
   "cell_type": "code",
   "execution_count": 8,
   "id": "7a68136e",
   "metadata": {},
   "outputs": [],
   "source": [
    "# Generate a mtrix\n",
    "A = np.ones((4, 4)) + np.eye(4) * np.random.randn(4)"
   ]
  },
  {
   "cell_type": "code",
   "execution_count": 9,
   "id": "1b3497ac",
   "metadata": {},
   "outputs": [
    {
     "data": {
      "text/plain": [
       "array([[0.67678214, 1.        , 1.        , 1.        ],\n",
       "       [1.        , 0.76889147, 1.        , 1.        ],\n",
       "       [1.        , 1.        , 2.02451147, 1.        ],\n",
       "       [1.        , 1.        , 1.        , 2.19993336]])"
      ]
     },
     "execution_count": 9,
     "metadata": {},
     "output_type": "execute_result"
    }
   ],
   "source": [
    "A "
   ]
  },
  {
   "cell_type": "markdown",
   "id": "1f9b1b01",
   "metadata": {},
   "source": [
    "## Compute $\\Lambda(A)$ and $\\rho(A)$"
   ]
  },
  {
   "cell_type": "code",
   "execution_count": 10,
   "id": "9b001333",
   "metadata": {},
   "outputs": [
    {
     "data": {
      "text/plain": [
       "array([-0.27974541,  0.29956771,  1.11391166,  4.53638448])"
      ]
     },
     "execution_count": 10,
     "metadata": {},
     "output_type": "execute_result"
    }
   ],
   "source": [
    "# Compute the spectrum of A\n",
    "spectr_A = np.unique(np.linalg.eigvals(A))\n",
    "spectr_A"
   ]
  },
  {
   "cell_type": "code",
   "execution_count": 11,
   "id": "c84390c6",
   "metadata": {},
   "outputs": [
    {
     "data": {
      "text/plain": [
       "4.536384480444349"
      ]
     },
     "execution_count": 11,
     "metadata": {},
     "output_type": "execute_result"
    }
   ],
   "source": [
    "# Compute the spectrasl radius of A\n",
    "np.max(np.abs(spectr_A))"
   ]
  }
 ],
 "metadata": {
  "kernelspec": {
   "display_name": "Python 3 (ipykernel)",
   "language": "python",
   "name": "python3"
  },
  "language_info": {
   "codemirror_mode": {
    "name": "ipython",
    "version": 3
   },
   "file_extension": ".py",
   "mimetype": "text/x-python",
   "name": "python",
   "nbconvert_exporter": "python",
   "pygments_lexer": "ipython3",
   "version": "3.9.7"
  }
 },
 "nbformat": 4,
 "nbformat_minor": 5
}
