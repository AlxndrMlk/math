{
 "cells": [
  {
   "cell_type": "code",
   "execution_count": 3,
   "id": "50104197",
   "metadata": {},
   "outputs": [],
   "source": [
    "import numpy as np\n",
    "from scipy import linalg\n",
    "\n",
    "import matplotlib.pyplot as plt\n",
    "plt.style.use('fivethirtyeight')"
   ]
  },
  {
   "cell_type": "markdown",
   "id": "bf025b2f",
   "metadata": {},
   "source": [
    "# Matrix spectrum and spectral radius\n",
    "\n",
    "[**Matrix spectrum**](https://en.wikipedia.org/wiki/Spectrum_of_a_matrix) of matrix $A$ is defined as:\n",
    "\n",
    "$$\\Large \\Lambda(A) = {\\lambda_1, ..., \\lambda_n}$$\n",
    "\n",
    "In other words, it's a set of all **eigenvalues** of matrix $A$.\n",
    "\n",
    "**Spectral radius** of matrix $A$ is:\n",
    "\n",
    "$$\\Large \\rho(A) = max(\\Lambda(A))$$"
   ]
  },
  {
   "cell_type": "markdown",
   "id": "a406598b",
   "metadata": {},
   "source": [
    "## Data"
   ]
  },
  {
   "cell_type": "code",
   "execution_count": 32,
   "id": "7a68136e",
   "metadata": {},
   "outputs": [],
   "source": [
    "# Generate a mtrix\n",
    "A = np.ones((4, 4)) + np.eye(4) * np.random.randn(4)"
   ]
  },
  {
   "cell_type": "code",
   "execution_count": 33,
   "id": "1b3497ac",
   "metadata": {},
   "outputs": [
    {
     "data": {
      "text/plain": [
       "array([[0.3700845 , 1.        , 1.        , 1.        ],\n",
       "       [1.        , 1.45214673, 1.        , 1.        ],\n",
       "       [1.        , 1.        , 1.67335178, 1.        ],\n",
       "       [1.        , 1.        , 1.        , 1.97421229]])"
      ]
     },
     "execution_count": 33,
     "metadata": {},
     "output_type": "execute_result"
    }
   ],
   "source": [
    "A "
   ]
  },
  {
   "cell_type": "markdown",
   "id": "1f9b1b01",
   "metadata": {},
   "source": [
    "## Compute $\\Lambda(A)$ and $\\rho(A)$"
   ]
  },
  {
   "cell_type": "code",
   "execution_count": 36,
   "id": "9b001333",
   "metadata": {},
   "outputs": [
    {
     "data": {
      "text/plain": [
       "array([-0.37396762,  0.5477639 ,  0.84805325,  4.44794578])"
      ]
     },
     "execution_count": 36,
     "metadata": {},
     "output_type": "execute_result"
    }
   ],
   "source": [
    "# Compute the spectrum of A\n",
    "spectr_A = np.unique(np.linalg.eigvals(A))\n",
    "spectr_A"
   ]
  },
  {
   "cell_type": "code",
   "execution_count": 37,
   "id": "c84390c6",
   "metadata": {},
   "outputs": [
    {
     "data": {
      "text/plain": [
       "4.447945775181395"
      ]
     },
     "execution_count": 37,
     "metadata": {},
     "output_type": "execute_result"
    }
   ],
   "source": [
    "# Compute the spectrasl radius of A\n",
    "np.max(spectr_A)"
   ]
  }
 ],
 "metadata": {
  "kernelspec": {
   "display_name": "Python 3 (ipykernel)",
   "language": "python",
   "name": "python3"
  },
  "language_info": {
   "codemirror_mode": {
    "name": "ipython",
    "version": 3
   },
   "file_extension": ".py",
   "mimetype": "text/x-python",
   "name": "python",
   "nbconvert_exporter": "python",
   "pygments_lexer": "ipython3",
   "version": "3.9.7"
  }
 },
 "nbformat": 4,
 "nbformat_minor": 5
}
