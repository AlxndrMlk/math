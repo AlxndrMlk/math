{
 "cells": [
  {
   "cell_type": "code",
   "execution_count": 28,
   "id": "50104197",
   "metadata": {},
   "outputs": [],
   "source": [
    "import numpy as np\n",
    "from scipy import linalg\n",
    "\n",
    "import matplotlib.pyplot as plt\n",
    "plt.style.use('fivethirtyeight')"
   ]
  },
  {
   "cell_type": "markdown",
   "id": "bf025b2f",
   "metadata": {},
   "source": [
    "# Matrix exponantiation\n",
    "\n",
    "[**Matrix exponential**](https://en.wikipedia.org/wiki/Matrix_exponential) is defined as:\n",
    "\n",
    "$$\\Large e^M = \\sum_{k=0}^{\\infty} \\frac{1}{k!}M^k$$\n",
    "\n",
    "and can be used to solve systems of linear differential equations. "
   ]
  },
  {
   "cell_type": "markdown",
   "id": "a406598b",
   "metadata": {},
   "source": [
    "## Data"
   ]
  },
  {
   "cell_type": "code",
   "execution_count": 42,
   "id": "7a68136e",
   "metadata": {},
   "outputs": [],
   "source": [
    "A = np.array([\n",
    "    [0, -np.pi],\n",
    "    [np.pi, 0]\n",
    "])"
   ]
  },
  {
   "cell_type": "code",
   "execution_count": 43,
   "id": "1b3497ac",
   "metadata": {},
   "outputs": [
    {
     "data": {
      "text/plain": [
       "array([[ 0.        , -3.14159265],\n",
       "       [ 3.14159265,  0.        ]])"
      ]
     },
     "execution_count": 43,
     "metadata": {},
     "output_type": "execute_result"
    }
   ],
   "source": [
    "A "
   ]
  },
  {
   "cell_type": "markdown",
   "id": "e413cec5",
   "metadata": {},
   "source": [
    "## $exp(M)$"
   ]
  },
  {
   "cell_type": "code",
   "execution_count": 44,
   "id": "c0c1d54d",
   "metadata": {},
   "outputs": [],
   "source": [
    "def matrix_exp(matrix, t):\n",
    "    if t == 0:\n",
    "        return np.eye(matrix.shape[0])\n",
    "    else:\n",
    "        return matrix_exp(matrix, t - 1) + (1 / np.math.factorial(t)) * np.linalg.matrix_power(matrix, t)"
   ]
  },
  {
   "cell_type": "code",
   "execution_count": 52,
   "id": "9425eafc",
   "metadata": {
    "scrolled": false
   },
   "outputs": [
    {
     "data": {
      "text/plain": [
       "array([[-1.00000000e+00, -3.58877235e-16],\n",
       "       [ 3.58877235e-16, -1.00000000e+00]])"
      ]
     },
     "execution_count": 52,
     "metadata": {},
     "output_type": "execute_result"
    }
   ],
   "source": [
    "matrix_exp(A, 100)"
   ]
  },
  {
   "cell_type": "code",
   "execution_count": 54,
   "id": "dae9d21d",
   "metadata": {},
   "outputs": [
    {
     "data": {
      "text/plain": [
       "array([[-1.00000000e+00, -2.35127499e-16],\n",
       "       [ 2.35127499e-16, -1.00000000e+00]])"
      ]
     },
     "execution_count": 54,
     "metadata": {},
     "output_type": "execute_result"
    }
   ],
   "source": [
    "# Sanity check\n",
    "linalg.expm(A)"
   ]
  },
  {
   "cell_type": "code",
   "execution_count": null,
   "id": "9b001333",
   "metadata": {},
   "outputs": [],
   "source": []
  }
 ],
 "metadata": {
  "kernelspec": {
   "display_name": "Python 3 (ipykernel)",
   "language": "python",
   "name": "python3"
  },
  "language_info": {
   "codemirror_mode": {
    "name": "ipython",
    "version": 3
   },
   "file_extension": ".py",
   "mimetype": "text/x-python",
   "name": "python",
   "nbconvert_exporter": "python",
   "pygments_lexer": "ipython3",
   "version": "3.9.7"
  }
 },
 "nbformat": 4,
 "nbformat_minor": 5
}
