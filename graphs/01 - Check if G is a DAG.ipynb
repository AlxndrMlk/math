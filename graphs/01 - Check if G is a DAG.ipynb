{
 "cells": [
  {
   "cell_type": "code",
   "execution_count": 48,
   "id": "13ec9997",
   "metadata": {},
   "outputs": [],
   "source": [
    "import numpy as np\n",
    "from scipy import linalg \n",
    "import networkx as nx"
   ]
  },
  {
   "cell_type": "markdown",
   "id": "25f2a796",
   "metadata": {},
   "source": [
    "# Check if adjacency matrix $A$ represents a DAG\n",
    "\n",
    "## Method 1\n",
    "\n",
    "Morales-Alvarez et al. (2021) refer to Zhang et al. (2018) to show that an adjacency matrix $A$ represents a [DAG](https://en.wikipedia.org/wiki/Directed_acyclic_graph) iff:\n",
    "\n",
    "<br>\n",
    "\n",
    "$$\\Large \\mathcal{R}(A) = 0$$\n",
    "\n",
    "where:\n",
    "\n",
    "$$\\large \\mathcal{R}(A) = tr(e^{A \\odot A}) - d$$\n",
    "\n",
    "where:\n",
    "\n",
    "* $A$ is the adjacency matrix of a graph $G$\n",
    "* $tr(\\cdot)$ is a trace of a matrix\n",
    "* $d$ is a number of nodes in $G$\n",
    "* $\\odot$ is an element-wise product ([Hadamard product](https://en.wikipedia.org/wiki/Hadamard_product_(matrices)))\n",
    "\n",
    "\n",
    "## Method 2\n",
    "\n",
    "Method 2, cited in Peters et al. (2017) has been proved by McKay et al. (2004).\n",
    "\n",
    "The theorem states that the adjacency matrix $A$ represents a DAG $G$ iff:\n",
    "\n",
    "$$\\Large \\forall a_{ij} \\in [A + I], a_{ij} \\in \\{0, 1\\} $$\n",
    "\n",
    "and \n",
    "\n",
    "$$\\Large \\forall \\lambda_{A + I}, \\lambda_{A + I} \\in \\mathbb{R} \\land \\lambda_{A + I} > 0$$\n",
    "\n",
    "where:\n",
    "\n",
    "* $a_{ij}$ is the $ij^{th}$ entry in the adjacency marrix $A$ of a graph $G$\n",
    "* $I$ is the identity matrix of size $d_A \\times d_A$\n",
    "* $\\lambda_{A+I}$ are the eigenvalues of matrix $A+I$\n",
    "\n",
    "_______________________\n",
    "\n",
    "<br>\n",
    "\n",
    "**NOTE**: Method 2 only works for **non-weighhted** adjacency matrices.\n",
    "____________________\n",
    "\n",
    "## References\n",
    "\n",
    "[Morales-Alvarez et al. - VICause: Simultaneous Missing Value Imputation and Causal Discovery with Groups (2021)](https://arxiv.org/pdf/2110.08223.pdf) \n",
    "\n",
    "[Zhang et al. - DAGs with NO TEARS: Continuous Optimization for Structure Learning (2018)](https://arxiv.org/pdf/1803.01422.pdf)\n",
    "\n",
    "[McKay et al. - Acyclic Digraphs and Eigenvalues of (0,1)-Matrices](https://arxiv.org/pdf/math/0310423.pdf)\n",
    "\n"
   ]
  },
  {
   "cell_type": "code",
   "execution_count": 104,
   "id": "e663ee77",
   "metadata": {},
   "outputs": [],
   "source": [
    "def check_if_dag_1(graph):\n",
    "    A = nx.linalg.graphmatrix.adjacency_matrix(graph).todense()\n",
    "    return np.trace(linalg.expm(A * A)) - A.shape[0] == 0\n",
    "\n",
    "def check_if_dag_2(graph):\n",
    "    # Get adj matrix\n",
    "    A = nx.linalg.graphmatrix.adjacency_matrix(graph).todense()\n",
    "    \n",
    "    # A + I\n",
    "    A_plus_I = A + np.eye(A.shape[0])\n",
    "    \n",
    "    # Check if 0-1 matrix\n",
    "    for i in set(A_plus_I.flatten().tolist()[0]):\n",
    "        if i not in [0, 1]:\n",
    "            return False\n",
    "        \n",
    "    eigenvals = np.linalg.eigvals(A_plus_I)\n",
    "    \n",
    "    if np.sum(eigenvals > 0) == eigenvals.shape:\n",
    "        return True\n",
    "    \n",
    "    return False"
   ]
  },
  {
   "cell_type": "markdown",
   "id": "be0330a6",
   "metadata": {},
   "source": [
    "## DAG"
   ]
  },
  {
   "cell_type": "code",
   "execution_count": 105,
   "id": "495b9521",
   "metadata": {},
   "outputs": [],
   "source": [
    "# Create a graph\n",
    "G = nx.DiGraph()\n",
    "\n",
    "# Add nodes\n",
    "G.add_nodes_from(np.arange(6))\n",
    "\n",
    "# Add edges\n",
    "G.add_edges_from(\n",
    "    [\n",
    "        (0, 1),\n",
    "        (0, 3),\n",
    "        (0, 5),\n",
    "        (1, 2),\n",
    "        (2, 5),\n",
    "        (3, 4),\n",
    "        (4, 5)\n",
    "    ]\n",
    ")"
   ]
  },
  {
   "cell_type": "code",
   "execution_count": 106,
   "id": "e015df1a",
   "metadata": {},
   "outputs": [
    {
     "data": {
      "image/png": "[encoded data removed]",
      "text/plain": [
       "<Figure size 432x288 with 1 Axes>"
      ]
     },
     "metadata": {},
     "output_type": "display_data"
    }
   ],
   "source": [
    "# Plot the graph\n",
    "nx.draw(G, with_labels=True)"
   ]
  },
  {
   "cell_type": "code",
   "execution_count": 107,
   "id": "9668d5da",
   "metadata": {
    "scrolled": true
   },
   "outputs": [
    {
     "data": {
      "text/plain": [
       "matrix([[0, 1, 0, 1, 0, 1],\n",
       "        [0, 0, 1, 0, 0, 0],\n",
       "        [0, 0, 0, 0, 0, 1],\n",
       "        [0, 0, 0, 0, 1, 0],\n",
       "        [0, 0, 0, 0, 0, 1],\n",
       "        [0, 0, 0, 0, 0, 0]], dtype=int32)"
      ]
     },
     "execution_count": 107,
     "metadata": {},
     "output_type": "execute_result"
    }
   ],
   "source": [
    "# Get the adjacency matrix\n",
    "A = nx.linalg.graphmatrix.adjacency_matrix(G).todense()\n",
    "A"
   ]
  },
  {
   "cell_type": "code",
   "execution_count": 108,
   "id": "22f695c0",
   "metadata": {},
   "outputs": [
    {
     "data": {
      "text/plain": [
       "True"
      ]
     },
     "execution_count": 108,
     "metadata": {},
     "output_type": "execute_result"
    }
   ],
   "source": [
    "# Check if G is a DAG - Method 1\n",
    "check_if_dag_1(G)"
   ]
  },
  {
   "cell_type": "code",
   "execution_count": 109,
   "id": "eb264880",
   "metadata": {},
   "outputs": [
    {
     "data": {
      "text/plain": [
       "True"
      ]
     },
     "execution_count": 109,
     "metadata": {},
     "output_type": "execute_result"
    }
   ],
   "source": [
    "# Check if G is a DAG - Method 2\n",
    "check_if_dag_2(G)"
   ]
  },
  {
   "cell_type": "markdown",
   "id": "002b760e",
   "metadata": {},
   "source": [
    "## Non-DAG"
   ]
  },
  {
   "cell_type": "code",
   "execution_count": 114,
   "id": "9a40ea71",
   "metadata": {},
   "outputs": [],
   "source": [
    "# Create a graph\n",
    "G_non = nx.DiGraph()\n",
    "\n",
    "# Add nodes\n",
    "G_non.add_nodes_from(np.arange(6))\n",
    "\n",
    "# Add edges\n",
    "G_non.add_edges_from(\n",
    "    [\n",
    "        (0, 1),\n",
    "        (0, 3),\n",
    "        (0, 5),\n",
    "        (1, 2),\n",
    "        (2, 5),\n",
    "        (3, 4),\n",
    "        (4, 5),\n",
    "        (5, 0),\n",
    "        (0, 0)\n",
    "    ]\n",
    ")"
   ]
  },
  {
   "cell_type": "code",
   "execution_count": 115,
   "id": "1dae9da8",
   "metadata": {},
   "outputs": [
    {
     "data": {
      "image/png": "[encoded data removed]",
      "text/plain": [
       "<Figure size 432x288 with 1 Axes>"
      ]
     },
     "metadata": {},
     "output_type": "display_data"
    }
   ],
   "source": [
    "# Plot the graph\n",
    "nx.draw(G_non, with_labels=True)"
   ]
  },
  {
   "cell_type": "code",
   "execution_count": 116,
   "id": "4779c18e",
   "metadata": {
    "scrolled": true
   },
   "outputs": [
    {
     "data": {
      "text/plain": [
       "matrix([[1, 1, 0, 1, 0, 1],\n",
       "        [0, 0, 1, 0, 0, 0],\n",
       "        [0, 0, 0, 0, 0, 1],\n",
       "        [0, 0, 0, 0, 1, 0],\n",
       "        [0, 0, 0, 0, 0, 1],\n",
       "        [1, 0, 0, 0, 0, 0]], dtype=int32)"
      ]
     },
     "execution_count": 116,
     "metadata": {},
     "output_type": "execute_result"
    }
   ],
   "source": [
    "# Get the adjacency matrix\n",
    "A = nx.linalg.graphmatrix.adjacency_matrix(G_non).todense()\n",
    "A"
   ]
  },
  {
   "cell_type": "code",
   "execution_count": 119,
   "id": "765571a5",
   "metadata": {},
   "outputs": [
    {
     "data": {
      "text/plain": [
       "False"
      ]
     },
     "execution_count": 119,
     "metadata": {},
     "output_type": "execute_result"
    }
   ],
   "source": [
    "# Check if G is a DAG - Method 1\n",
    "check_if_dag_1(G_non)"
   ]
  },
  {
   "cell_type": "code",
   "execution_count": 120,
   "id": "250e6a54",
   "metadata": {},
   "outputs": [
    {
     "data": {
      "text/plain": [
       "False"
      ]
     },
     "execution_count": 120,
     "metadata": {},
     "output_type": "execute_result"
    }
   ],
   "source": [
    "# Check if G is a DAG - Method 2\n",
    "check_if_dag_2(G_non)"
   ]
  }
 ],
 "metadata": {
  "kernelspec": {
   "display_name": "Python [conda env:tf-graphs-probability]",
   "language": "python",
   "name": "conda-env-tf-graphs-probability-py"
  },
  "language_info": {
   "codemirror_mode": {
    "name": "ipython",
    "version": 3
   },
   "file_extension": ".py",
   "mimetype": "text/x-python",
   "name": "python",
   "nbconvert_exporter": "python",
   "pygments_lexer": "ipython3",
   "version": "3.7.11"
  }
 },
 "nbformat": 4,
 "nbformat_minor": 5
}
