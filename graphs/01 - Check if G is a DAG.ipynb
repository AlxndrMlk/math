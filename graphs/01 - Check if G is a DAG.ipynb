{
 "cells": [
  {
   "cell_type": "code",
   "execution_count": 48,
   "id": "c04be000",
   "metadata": {},
   "outputs": [],
   "source": [
    "import numpy as np\n",
    "from scipy import linalg \n",
    "import networkx as nx"
   ]
  },
  {
   "cell_type": "markdown",
   "id": "d9eb37a3",
   "metadata": {},
   "source": [
    "# Check if adjacency matrix $A$ represents a DAG\n",
    "\n",
    "Morales-Alvarez et al. (2021) refer to Zhang et al. (2018) to show that an adjacency matrix $A$ represents a [DAG](https://en.wikipedia.org/wiki/Directed_acyclic_graph) iff:\n",
    "\n",
    "<br>\n",
    "\n",
    "$$\\Large \\mathcal{R}(A) = 0$$\n",
    "\n",
    "where:\n",
    "\n",
    "$$\\large \\mathcal{R}(A) = tr(e^{A \\odot A}) - d$$\n",
    "\n",
    "where:\n",
    "\n",
    "* $A$ is the adjacency matrix of a graph $G$\n",
    "* $tr(\\cdot)$ is a trace of a matrix\n",
    "* $d$ is a number of nodes in $G$\n",
    "* $\\odot$ is an element-wise product ([Hadamard product](https://en.wikipedia.org/wiki/Hadamard_product_(matrices)))\n",
    "\n",
    "\n",
    "### References\n",
    "\n",
    "[Morales-Alvarez et al. - VICause: Simultaneous Missing Value Imputation and Causal Discovery with Groups (2021)](https://arxiv.org/pdf/2110.08223.pdf) \n",
    "\n",
    "[Zhang et al. - DAGs with NO TEARS: Continuous Optimization for Structure Learning (2018)](https://arxiv.org/pdf/1803.01422.pdf)"
   ]
  },
  {
   "cell_type": "code",
   "execution_count": 49,
   "id": "fecb350a",
   "metadata": {},
   "outputs": [],
   "source": [
    "def check_if_dag(graph):\n",
    "    A = nx.linalg.graphmatrix.adjacency_matrix(graph).todense()\n",
    "    return np.trace(linalg.expm(A * A)) - A.shape[0] == 0"
   ]
  },
  {
   "cell_type": "code",
   "execution_count": 68,
   "id": "22d12922",
   "metadata": {},
   "outputs": [],
   "source": [
    "# Create a graph\n",
    "G = nx.DiGraph()\n",
    "\n",
    "# Add nodes\n",
    "G.add_nodes_from(np.arange(6))\n",
    "\n",
    "# Add edges\n",
    "G.add_edges_from(\n",
    "    [\n",
    "        (0, 1),\n",
    "        (0, 3),\n",
    "        (0, 5),\n",
    "        (1, 2),\n",
    "        (2, 5),\n",
    "        (3, 4),\n",
    "        (4, 5)\n",
    "    ]\n",
    ")"
   ]
  },
  {
   "cell_type": "code",
   "execution_count": 69,
   "id": "d63e8654",
   "metadata": {},
   "outputs": [
    {
     "data": {
      "image/png": "[encoded data removed]",
      "text/plain": [
       "<Figure size 432x288 with 1 Axes>"
      ]
     },
     "metadata": {},
     "output_type": "display_data"
    }
   ],
   "source": [
    "# Plot the graph\n",
    "nx.draw(G, with_labels=True)"
   ]
  },
  {
   "cell_type": "code",
   "execution_count": 70,
   "id": "8c85417b",
   "metadata": {
    "scrolled": true
   },
   "outputs": [
    {
     "data": {
      "text/plain": [
       "matrix([[0, 1, 0, 1, 0, 1],\n",
       "        [0, 0, 1, 0, 0, 0],\n",
       "        [0, 0, 0, 0, 0, 1],\n",
       "        [0, 0, 0, 0, 1, 0],\n",
       "        [0, 0, 0, 0, 0, 1],\n",
       "        [0, 0, 0, 0, 0, 0]], dtype=int32)"
      ]
     },
     "execution_count": 70,
     "metadata": {},
     "output_type": "execute_result"
    }
   ],
   "source": [
    "# Get the adjacency matrix\n",
    "A = nx.linalg.graphmatrix.adjacency_matrix(G).todense()\n",
    "A"
   ]
  },
  {
   "cell_type": "code",
   "execution_count": 71,
   "id": "b44b2415",
   "metadata": {},
   "outputs": [
    {
     "data": {
      "text/plain": [
       "True"
      ]
     },
     "execution_count": 71,
     "metadata": {},
     "output_type": "execute_result"
    }
   ],
   "source": [
    "# Check if G is a DAG\n",
    "check_if_dag(G)"
   ]
  }
 ],
 "metadata": {
  "kernelspec": {
   "display_name": "Python [conda env:tf-graphs-probability]",
   "language": "python",
   "name": "conda-env-tf-graphs-probability-py"
  },
  "language_info": {
   "codemirror_mode": {
    "name": "ipython",
    "version": 3
   },
   "file_extension": ".py",
   "mimetype": "text/x-python",
   "name": "python",
   "nbconvert_exporter": "python",
   "pygments_lexer": "ipython3",
   "version": "3.7.11"
  }
 },
 "nbformat": 4,
 "nbformat_minor": 5
}
