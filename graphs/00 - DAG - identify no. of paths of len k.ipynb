{
 "cells": [
  {
   "cell_type": "code",
   "execution_count": 1,
   "id": "eb9fa27f",
   "metadata": {},
   "outputs": [],
   "source": [
    "import numpy as np\n",
    "import networkx as nx"
   ]
  },
  {
   "cell_type": "markdown",
   "id": "72499329",
   "metadata": {},
   "source": [
    "# DAGs - no. of paths of length $k$\n",
    "\n",
    "\n",
    "For adjacency matrix $A$, representimng a DAG $G$, no. of paths between nodes $i$ and $j$ of length $k$ can be identified by raising $A$ to the power of $k$:\n",
    "\n",
    "$$\\Large A^k_{ij} = \\text{no. of paths of len $k$ from $i$ to $j$}$$"
   ]
  },
  {
   "cell_type": "code",
   "execution_count": 39,
   "id": "dd4a6537",
   "metadata": {},
   "outputs": [],
   "source": [
    "def get_n_paths_of_len_k(graph, node_0, node_1, k):\n",
    "    \n",
    "    \"\"\"Computes a number ogf paths of len k between nodes i and j\"\"\"\n",
    "    \n",
    "    A = nx.linalg.graphmatrix.adjacency_matrix(graph).todense()\n",
    "    paths_k = np.linalg.matrix_power(A, k)\n",
    "    \n",
    "    return paths_k[node_0, node_1]"
   ]
  },
  {
   "cell_type": "markdown",
   "id": "3c862a84",
   "metadata": {},
   "source": [
    "## Build a graph"
   ]
  },
  {
   "cell_type": "code",
   "execution_count": 40,
   "id": "567e13be",
   "metadata": {},
   "outputs": [],
   "source": [
    "# Create a graph\n",
    "G = nx.DiGraph()\n",
    "\n",
    "# Add nodes\n",
    "G.add_nodes_from(np.arange(6))\n",
    "\n",
    "# Add edges\n",
    "G.add_edges_from(\n",
    "    [\n",
    "        (0, 1),\n",
    "        (0, 3),\n",
    "        (0, 5),\n",
    "        (1, 2),\n",
    "        (2, 5),\n",
    "        (3, 4),\n",
    "        (4, 5)\n",
    "    ]\n",
    ")"
   ]
  },
  {
   "cell_type": "code",
   "execution_count": 41,
   "id": "eb73614c",
   "metadata": {},
   "outputs": [
    {
     "data": {
      "image/png": "[encoded data removed]",
      "text/plain": [
       "<Figure size 432x288 with 1 Axes>"
      ]
     },
     "metadata": {},
     "output_type": "display_data"
    }
   ],
   "source": [
    "# Plot the graph\n",
    "nx.draw(G, with_labels=True)"
   ]
  },
  {
   "cell_type": "code",
   "execution_count": 42,
   "id": "ef8a5e58",
   "metadata": {},
   "outputs": [
    {
     "data": {
      "text/plain": [
       "matrix([[0, 1, 0, 1, 0, 1],\n",
       "        [0, 0, 1, 0, 0, 0],\n",
       "        [0, 0, 0, 0, 0, 1],\n",
       "        [0, 0, 0, 0, 1, 0],\n",
       "        [0, 0, 0, 0, 0, 1],\n",
       "        [0, 0, 0, 0, 0, 0]], dtype=int32)"
      ]
     },
     "execution_count": 42,
     "metadata": {},
     "output_type": "execute_result"
    }
   ],
   "source": [
    "# Get the adjacency matrix\n",
    "A = nx.linalg.graphmatrix.adjacency_matrix(G).todense()\n",
    "A"
   ]
  },
  {
   "cell_type": "markdown",
   "id": "da5d92c7",
   "metadata": {},
   "source": [
    "We expect to have $2$ paths of length $3$ from node $0$ to node $5$. Let's check it:"
   ]
  },
  {
   "cell_type": "code",
   "execution_count": 43,
   "id": "b6062f30",
   "metadata": {},
   "outputs": [
    {
     "data": {
      "text/plain": [
       "2"
      ]
     },
     "execution_count": 43,
     "metadata": {},
     "output_type": "execute_result"
    }
   ],
   "source": [
    "get_n_paths_of_len_k(\n",
    "    graph=G, \n",
    "    node_0=0, \n",
    "    node_1=5, \n",
    "    k=3\n",
    ")"
   ]
  },
  {
   "cell_type": "markdown",
   "id": "67c88f0b",
   "metadata": {},
   "source": [
    "$G$ is directed, so we expect to have one path of len $2$ from node $3$ to node $5$:"
   ]
  },
  {
   "cell_type": "code",
   "execution_count": 45,
   "id": "bc30ace9",
   "metadata": {},
   "outputs": [
    {
     "data": {
      "text/plain": [
       "1"
      ]
     },
     "execution_count": 45,
     "metadata": {},
     "output_type": "execute_result"
    }
   ],
   "source": [
    "get_n_paths_of_len_k(\n",
    "    graph=G, \n",
    "    node_0=3, \n",
    "    node_1=5, \n",
    "    k=2\n",
    ")"
   ]
  }
 ],
 "metadata": {
  "kernelspec": {
   "display_name": "Python [conda env:tf-graphs-probability]",
   "language": "python",
   "name": "conda-env-tf-graphs-probability-py"
  },
  "language_info": {
   "codemirror_mode": {
    "name": "ipython",
    "version": 3
   },
   "file_extension": ".py",
   "mimetype": "text/x-python",
   "name": "python",
   "nbconvert_exporter": "python",
   "pygments_lexer": "ipython3",
   "version": "3.7.11"
  }
 },
 "nbformat": 4,
 "nbformat_minor": 5
}
